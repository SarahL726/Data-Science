{
 "cells": [
  {
   "cell_type": "markdown",
   "id": "loose-tension",
   "metadata": {},
   "source": [
    "# Part 1: Regression analysis of Gapminder data\n",
    "In this part of this project you will practice and experiment with linear regression using data from gapminder.org. We recommend spending a little time looking at material there, it is quite an informative site.\n",
    "\n",
    "We will use a subset of data provided by gapminder provided by Jennifer Bryan described in it’s github page\n",
    "\n",
    "Get the data from: https://github.com/jennybc/gapminder/blob/master/data-raw/08_gap-every-five-years.tsv"
   ]
  },
  {
   "cell_type": "code",
   "execution_count": 1,
   "id": "local-newark",
   "metadata": {},
   "outputs": [
    {
     "data": {
      "text/html": [
       "<div>\n",
       "<style scoped>\n",
       "    .dataframe tbody tr th:only-of-type {\n",
       "        vertical-align: middle;\n",
       "    }\n",
       "\n",
       "    .dataframe tbody tr th {\n",
       "        vertical-align: top;\n",
       "    }\n",
       "\n",
       "    .dataframe thead th {\n",
       "        text-align: right;\n",
       "    }\n",
       "</style>\n",
       "<table border=\"1\" class=\"dataframe\">\n",
       "  <thead>\n",
       "    <tr style=\"text-align: right;\">\n",
       "      <th></th>\n",
       "      <th>country</th>\n",
       "      <th>continent</th>\n",
       "      <th>year</th>\n",
       "      <th>lifeExp</th>\n",
       "      <th>pop</th>\n",
       "      <th>gdpPercap</th>\n",
       "    </tr>\n",
       "  </thead>\n",
       "  <tbody>\n",
       "    <tr>\n",
       "      <th>0</th>\n",
       "      <td>Afghanistan</td>\n",
       "      <td>Asia</td>\n",
       "      <td>1952</td>\n",
       "      <td>28.801</td>\n",
       "      <td>8425333</td>\n",
       "      <td>779.445314</td>\n",
       "    </tr>\n",
       "    <tr>\n",
       "      <th>1</th>\n",
       "      <td>Afghanistan</td>\n",
       "      <td>Asia</td>\n",
       "      <td>1957</td>\n",
       "      <td>30.332</td>\n",
       "      <td>9240934</td>\n",
       "      <td>820.853030</td>\n",
       "    </tr>\n",
       "    <tr>\n",
       "      <th>2</th>\n",
       "      <td>Afghanistan</td>\n",
       "      <td>Asia</td>\n",
       "      <td>1962</td>\n",
       "      <td>31.997</td>\n",
       "      <td>10267083</td>\n",
       "      <td>853.100710</td>\n",
       "    </tr>\n",
       "    <tr>\n",
       "      <th>3</th>\n",
       "      <td>Afghanistan</td>\n",
       "      <td>Asia</td>\n",
       "      <td>1967</td>\n",
       "      <td>34.020</td>\n",
       "      <td>11537966</td>\n",
       "      <td>836.197138</td>\n",
       "    </tr>\n",
       "    <tr>\n",
       "      <th>4</th>\n",
       "      <td>Afghanistan</td>\n",
       "      <td>Asia</td>\n",
       "      <td>1972</td>\n",
       "      <td>36.088</td>\n",
       "      <td>13079460</td>\n",
       "      <td>739.981106</td>\n",
       "    </tr>\n",
       "  </tbody>\n",
       "</table>\n",
       "</div>"
      ],
      "text/plain": [
       "       country continent  year  lifeExp       pop   gdpPercap\n",
       "0  Afghanistan      Asia  1952   28.801   8425333  779.445314\n",
       "1  Afghanistan      Asia  1957   30.332   9240934  820.853030\n",
       "2  Afghanistan      Asia  1962   31.997  10267083  853.100710\n",
       "3  Afghanistan      Asia  1967   34.020  11537966  836.197138\n",
       "4  Afghanistan      Asia  1972   36.088  13079460  739.981106"
      ]
     },
     "execution_count": 1,
     "metadata": {},
     "output_type": "execute_result"
    }
   ],
   "source": [
    "import pandas as pd\n",
    "data = pd.read_csv(\"gap.tsv\", sep='\\t')\n",
    "data.head()"
   ]
  },
  {
   "cell_type": "markdown",
   "id": "dominican-glasgow",
   "metadata": {},
   "source": [
    "For this exercise you will explore how life expectancy has changed over 50 years across the world, and how economic measures like gross domestic product (GDP) are related to it.\n",
    "\n",
    "**Exercise 1**: Make a scatter plot of life expectancy across time."
   ]
  },
  {
   "cell_type": "code",
   "execution_count": 2,
   "id": "expanded-creation",
   "metadata": {},
   "outputs": [
    {
     "data": {
      "text/plain": [
       "Text(0.5, 1.0, 'Scatter plot of Life Expectancy vs. Year')"
      ]
     },
     "execution_count": 2,
     "metadata": {},
     "output_type": "execute_result"
    },
    {
     "data": {
      "image/png": "[encoded data removed]",
      "text/plain": [
       "<Figure size 432x288 with 1 Axes>"
      ]
     },
     "metadata": {
      "needs_background": "light"
     },
     "output_type": "display_data"
    }
   ],
   "source": [
    "import matplotlib.pyplot as plt\n",
    "import numpy as np\n",
    "plt.plot(data['year'], data['lifeExp'], '*')\n",
    "plt.title(\"Scatter plot of Life Expectancy vs. Year\")"
   ]
  },
  {
   "cell_type": "markdown",
   "id": "rubber-prevention",
   "metadata": {},
   "source": [
    "**Question 1**: Is there a general trend (e.g., increasing or decreasing) for life expectancy across time? Is this trend linear? (answering this qualitatively from the plot, you will do a statistical analysis of this question shortly)"
   ]
  },
  {
   "cell_type": "markdown",
   "id": "operating-killing",
   "metadata": {},
   "source": [
    "*The general trend is increasing. It is briefly linear, but it can be spotted that there is a slight curve. In addition, there are some outliers in the graph.*"
   ]
  },
  {
   "cell_type": "markdown",
   "id": "instrumental-consumption",
   "metadata": {},
   "source": [
    "**Question 2**: How would you describe the distribution of life expectancy across countries for individual years? Is it skewed, or not? Unimodal or not? Symmetric around it’s center?"
   ]
  },
  {
   "cell_type": "markdown",
   "id": "basic-accountability",
   "metadata": {},
   "source": [
    "*The distribution is skewed: From skewed towards the bottom to skewed toward the top*\n",
    "\n",
    "*Not unimodel*\n",
    "\n",
    "*They are not symmetric around it's center and the skewing level changes through time*"
   ]
  },
  {
   "cell_type": "code",
   "execution_count": 3,
   "id": "determined-senior",
   "metadata": {},
   "outputs": [],
   "source": [
    "# a helper for a per b\n",
    "\"\"\"\n",
    "    data: The dataframe\n",
    "    a_col: The column name of a\n",
    "    b_col: The column name of b\n",
    "    prev_b: The first element of b\n",
    "\"\"\"\n",
    "def a_per_b(data, a_col, b_col, prev_b):\n",
    "    a_per_b = []\n",
    "    prev_b = prev_b\n",
    "    a = []\n",
    "    for idx, row in data.iterrows():\n",
    "        b = row[b_col]\n",
    "        if b != prev_b:\n",
    "            a_per_b.append(a)\n",
    "            a = []\n",
    "        a.append(row[a_col])\n",
    "        prev_b = b\n",
    "    a_per_b.pop(0)\n",
    "    a_per_b.append(a)\n",
    "    return a_per_b"
   ]
  },
  {
   "cell_type": "code",
   "execution_count": 4,
   "id": "liberal-thing",
   "metadata": {},
   "outputs": [
    {
     "data": {
      "text/plain": [
       "Text(0.5, 1.0, 'Violin Plot of Life Expectancy vs. Year')"
      ]
     },
     "execution_count": 4,
     "metadata": {},
     "output_type": "execute_result"
    },
    {
     "data": {
      "image/png": "[encoded data removed]",
      "text/plain": [
       "<Figure size 432x288 with 1 Axes>"
      ]
     },
     "metadata": {
      "needs_background": "light"
     },
     "output_type": "display_data"
    }
   ],
   "source": [
    "data.sort_values(by=['year'], inplace=True)  \n",
    "life_exp_per_year = a_per_b(data, 'lifeExp', 'year', 1951)\n",
    "years = list(range(1952, 2008, 5))\n",
    "\n",
    "plt.violinplot(life_exp_per_year, years, widths=4, showmeans=True)\n",
    "plt.xlabel(\"Year\")\n",
    "plt.ylabel(\"Life Expectancy\")\n",
    "plt.title(\"Violin Plot of Life Expectancy vs. Year\")"
   ]
  },
  {
   "cell_type": "markdown",
   "id": "bulgarian-pleasure",
   "metadata": {},
   "source": [
    "**Question 3**: Suppose I fit a linear regression model of life expectancy vs. year (treating it as a continuous variable), and test for a relationship between year and life expectancy, will you reject the null hypothesis of no relationship? (do this without fitting the model yet. I am testing your intuition.)"
   ]
  },
  {
   "cell_type": "markdown",
   "id": "capable-implementation",
   "metadata": {},
   "source": [
    "*Yes, I will reject. There does seem to be a relationship: life expectancy increases as the year increases.*"
   ]
  },
  {
   "cell_type": "markdown",
   "id": "public-thailand",
   "metadata": {},
   "source": [
    "**Question 4**: What would a violin plot of residuals from the linear model in Question 3 vs. year look like? (Again, don’t do the analysis yet, answer this intuitively)"
   ]
  },
  {
   "cell_type": "markdown",
   "id": "verified-county",
   "metadata": {},
   "source": [
    "*It should look like a parabola that concave up, and part of graph should be below x=0 and another part above x=0*"
   ]
  },
  {
   "cell_type": "markdown",
   "id": "higher-brave",
   "metadata": {},
   "source": [
    "**Question 5**: According to the assumptions of the linear regression model, what should that violin plot look like? That is, consider the assumptions the linear regression model you used assumes (e.g., about noise, about input distributions, etc); do you think everything is okay?"
   ]
  },
  {
   "cell_type": "markdown",
   "id": "flying-story",
   "metadata": {},
   "source": [
    "*(I have a little trouble understanding this question, so my answer would be about the violin plot that is done by the predicted life expectancies of linear regression model vs. year.) The violins should be more symmetric to the center as mean. The mean of the years should fit a line better than the raw data. I think not everything is okay, because the distribution of life expectancy skewed a lot, and changes over time. There might be some other important factors except time.*"
   ]
  },
  {
   "cell_type": "markdown",
   "id": "integral-therapy",
   "metadata": {},
   "source": [
    "**Exercise 2**: Fit a linear regression model using, e.g., the LinearRegression function from Scikit-Learn or the closed-form solution, for life expectancy vs. year (as a continuous variable). There is no need to plot anything here, but please print the fitted model out in a readable format."
   ]
  },
  {
   "cell_type": "code",
   "execution_count": 5,
   "id": "medieval-milan",
   "metadata": {},
   "outputs": [
    {
     "name": "stdout",
     "output_type": "stream",
     "text": [
      "pred_lifeExp = 0.3259038276371515*year + (-585.6521874415441)\n"
     ]
    }
   ],
   "source": [
    "from sklearn import linear_model\n",
    "reg = linear_model.LinearRegression()\n",
    "X = [[x] for x in data['year'].values]\n",
    "Y = [[y] for y in data['lifeExp'].values]\n",
    "regfit = reg.fit(X, Y)\n",
    "print(\"pred_lifeExp = {}*year + ({})\".format(regfit.coef_[0][0], regfit.intercept_[0]))"
   ]
  },
  {
   "cell_type": "markdown",
   "id": "social-gregory",
   "metadata": {},
   "source": [
    "**Question 6**: On average, by how much does life expectancy increase every year around the world?"
   ]
  },
  {
   "cell_type": "markdown",
   "id": "stock-pizza",
   "metadata": {},
   "source": [
    "*0.3259*"
   ]
  },
  {
   "cell_type": "markdown",
   "id": "gothic-senegal",
   "metadata": {},
   "source": [
    "**Question 7**: Do you reject the null hypothesis of no relationship between year and life expectancy? Why?"
   ]
  },
  {
   "cell_type": "markdown",
   "id": "loving-arthur",
   "metadata": {},
   "source": [
    "*Yes, I do reject. Because the slope exist, and is not a number that is too close to 0, which means the relationship exists.*"
   ]
  },
  {
   "cell_type": "markdown",
   "id": "dutch-information",
   "metadata": {},
   "source": [
    "**Exercise 3**: Make a violin plot of residuals vs. year for the linear model from Exercise 2."
   ]
  },
  {
   "cell_type": "code",
   "execution_count": 6,
   "id": "unknown-newspaper",
   "metadata": {},
   "outputs": [
    {
     "data": {
      "text/plain": [
       "Text(0.5, 1.0, 'Violin plot of Residuals vs. Year')"
      ]
     },
     "execution_count": 6,
     "metadata": {},
     "output_type": "execute_result"
    },
    {
     "data": {
      "image/png": "[encoded data removed]",
      "text/plain": [
       "<Figure size 432x288 with 1 Axes>"
      ]
     },
     "metadata": {
      "needs_background": "light"
     },
     "output_type": "display_data"
    }
   ],
   "source": [
    "pred_lifeExp = []\n",
    "for year in data['year'].values:\n",
    "    pred_lifeExp.append(regfit.predict([[year]])[0][0])\n",
    "data['pred_lifeExp'] = pd.Series(pred_lifeExp, index=data.index)\n",
    "data['residual'] = data['lifeExp'] - data['pred_lifeExp']\n",
    "\n",
    "residual = a_per_b(data, 'residual', 'year', 1951)\n",
    "plt.violinplot(residual, years, widths=4, showmeans=True)\n",
    "plt.xlabel(\"Year\")\n",
    "plt.ylabel(\"Residuals\")\n",
    "plt.title(\"Violin plot of Residuals vs. Year\")"
   ]
  },
  {
   "cell_type": "markdown",
   "id": "demanding-publicity",
   "metadata": {},
   "source": [
    "**Question 8**: Does the plot of Exercise 3 match your expectations (as you answered Question 4)?"
   ]
  },
  {
   "cell_type": "markdown",
   "id": "scientific-intake",
   "metadata": {},
   "source": [
    "*Not really. It IS a parabola, but it actually concave down for the mean part.*"
   ]
  },
  {
   "cell_type": "markdown",
   "id": "black-newark",
   "metadata": {},
   "source": [
    "**Exercise 4**: Make a boxplot (or violin plot) of model residuals vs. continent."
   ]
  },
  {
   "cell_type": "code",
   "execution_count": 7,
   "id": "functional-conducting",
   "metadata": {},
   "outputs": [
    {
     "data": {
      "text/plain": [
       "Text(0.5, 1.0, 'Violin plot of Residuals vs. Continent')"
      ]
     },
     "execution_count": 7,
     "metadata": {},
     "output_type": "execute_result"
    },
    {
     "data": {
      "image/png": "[encoded data removed]",
      "text/plain": [
       "<Figure size 432x288 with 1 Axes>"
      ]
     },
     "metadata": {
      "needs_background": "light"
     },
     "output_type": "display_data"
    }
   ],
   "source": [
    "data.sort_values(by=['continent'], inplace=True)\n",
    "residuals = a_per_b(data, 'residual', 'continent', 'Asia')\n",
    "# print(residuals)\n",
    "plt.boxplot(residuals, labels = ['Africa', 'Americas', 'Asia', 'Europe', 'Oceania'])\n",
    "plt.xlabel(\"Continents\")\n",
    "plt.ylabel(\"Residuals\")\n",
    "plt.title(\"Violin plot of Residuals vs. Continent\")"
   ]
  },
  {
   "cell_type": "markdown",
   "id": "solved-promise",
   "metadata": {},
   "source": [
    "**Question 9**: Is there a dependence between model residual and continent? If so, what would that suggest when performing a regression analysis of life expectancy across time?"
   ]
  },
  {
   "cell_type": "markdown",
   "id": "synthetic-transcription",
   "metadata": {},
   "source": [
    "*Yes, there is a dependence. This implies that the continent is a component that can influence the life expectancy. Therefore, the continent should be seperated and be listed as a feature that can influence the result.*"
   ]
  },
  {
   "cell_type": "markdown",
   "id": "genuine-increase",
   "metadata": {},
   "source": [
    "**Exercise 5**: As in the Moneyball project, make a scatter plot of life expectancy vs. year, grouped by continent, and add a regression line. The result here can be given as either one scatter plot per continent, each with its own regression line, or a single plot with each continent's points plotted in a different color, and one regression line per continent's points. The former is probably easier to code up."
   ]
  },
  {
   "cell_type": "code",
   "execution_count": 8,
   "id": "lesbian-calvin",
   "metadata": {},
   "outputs": [
    {
     "data": {
      "text/plain": [
       "Text(0.5, 1.0, 'life expectancy vs. year, grouped by continent')"
      ]
     },
     "execution_count": 8,
     "metadata": {},
     "output_type": "execute_result"
    },
    {
     "data": {
      "image/png": "[encoded data removed]",
      "text/plain": [
       "<Figure size 432x288 with 1 Axes>"
      ]
     },
     "metadata": {
      "needs_background": "light"
     },
     "output_type": "display_data"
    }
   ],
   "source": [
    "africa = data[data['continent'] == 'Africa']\n",
    "americas = data[data['continent'] == 'Americas']\n",
    "asia = data[data['continent'] == 'Asia']\n",
    "europe = data[data['continent'] == 'Europe']\n",
    "oceania = data[data['continent'] == 'Oceania']\n",
    "\n",
    "africa_fit = reg.fit([[x] for x in africa['year'].values], [[y] for y in africa['lifeExp'].values])\n",
    "africa_pred_lifeExp = []\n",
    "for year in range(1952, 2008,5):\n",
    "    africa_pred_lifeExp.append(africa_fit.predict([[year]])[0][0])\n",
    "africa_inc = africa_fit.coef_\n",
    "\n",
    "americas_fit = reg.fit([[x] for x in americas['year'].values], [[y] for y in americas['lifeExp'].values])\n",
    "americas_pred_lifeExp = []\n",
    "for year in range(1952, 2008,5):\n",
    "    americas_pred_lifeExp.append(americas_fit.predict([[year]])[0][0])\n",
    "americas_inc = americas_fit.coef_\n",
    "\n",
    "asia_fit = reg.fit([[x] for x in asia['year'].values], [[y] for y in asia['lifeExp'].values])\n",
    "asia_pred_lifeExp = []\n",
    "for year in range(1952, 2008,5):\n",
    "    asia_pred_lifeExp.append(asia_fit.predict([[year]])[0][0])\n",
    "asia_inc = asia_fit.coef_\n",
    "\n",
    "europe_fit = reg.fit([[x] for x in europe['year'].values], [[y] for y in europe['lifeExp'].values])\n",
    "europe_pred_lifeExp = []\n",
    "for year in range(1952, 2008,5):\n",
    "    europe_pred_lifeExp.append(europe_fit.predict([[year]])[0][0])\n",
    "europe_inc = europe_fit.coef_\n",
    "\n",
    "oceania_fit = reg.fit([[x] for x in oceania['year'].values], [[y] for y in oceania['lifeExp'].values])\n",
    "oceania_pred_lifeExp = []\n",
    "for year in range(1952, 2008,5):\n",
    "    oceania_pred_lifeExp.append(oceania_fit.predict([[year]])[0][0])\n",
    "oceania_inc = oceania_fit.coef_\n",
    "\n",
    "fig = plt.figure()\n",
    "ax1 = fig.add_subplot(111)\n",
    "ax1.scatter(africa['year'], africa['lifeExp'], c='r', label='Africa')\n",
    "ax1.plot(range(1952, 2008,5), africa_pred_lifeExp, c='r')\n",
    "ax1.scatter(americas['year'], americas['lifeExp'], c='orange', label='Americas')\n",
    "ax1.plot(range(1952, 2008,5), americas_pred_lifeExp, c='orange')\n",
    "ax1.scatter(asia['year'], asia['lifeExp'], c='b', label='Asia')\n",
    "ax1.plot(range(1952, 2008,5), asia_pred_lifeExp, c='b')\n",
    "ax1.scatter(europe['year'], europe['lifeExp'], c='g', label='Europe')\n",
    "ax1.plot(range(1952, 2008,5), europe_pred_lifeExp, c='g')\n",
    "ax1.scatter(oceania['year'], oceania['lifeExp'], c='purple', label='Oceania')\n",
    "ax1.plot(range(1952, 2008,5), oceania_pred_lifeExp, c='purple')\n",
    "plt.legend(bbox_to_anchor=(1.05, 1), loc=0)\n",
    "plt.xlabel('years')\n",
    "plt.ylabel('life expectancies')\n",
    "plt.title('life expectancy vs. year, grouped by continent')"
   ]
  },
  {
   "cell_type": "markdown",
   "id": "convinced-reliance",
   "metadata": {},
   "source": [
    "**Question 10**: Based on this plot, should your regression model include an interaction term for continent and year? Why?"
   ]
  },
  {
   "cell_type": "markdown",
   "id": "restricted-democrat",
   "metadata": {},
   "source": [
    "*Yes, because the regression lines have a large difference between each other based on the continent.*"
   ]
  },
  {
   "cell_type": "markdown",
   "id": "official-humidity",
   "metadata": {},
   "source": [
    "**Exercise 6**: Fit a linear regression model for life expectancy including a term for an interaction between continent and year. Print out the model in a readable format, e.g., print the coefficients of the model (no need to plot). Hint: adding interaction terms is a form of feature engineering, like we discussed in class (think about, e.g., using (a subset of) polynomial features here)."
   ]
  },
  {
   "cell_type": "code",
   "execution_count": 9,
   "id": "italian-yemen",
   "metadata": {},
   "outputs": [
    {
     "data": {
      "text/html": [
       "<table class=\"simpletable\">\n",
       "<caption>OLS Regression Results</caption>\n",
       "<tr>\n",
       "  <th>Dep. Variable:</th>         <td>lifeExp</td>     <th>  R-squared:         </th> <td>   0.693</td> \n",
       "</tr>\n",
       "<tr>\n",
       "  <th>Model:</th>                   <td>OLS</td>       <th>  Adj. R-squared:    </th> <td>   0.691</td> \n",
       "</tr>\n",
       "<tr>\n",
       "  <th>Method:</th>             <td>Least Squares</td>  <th>  F-statistic:       </th> <td>   424.3</td> \n",
       "</tr>\n",
       "<tr>\n",
       "  <th>Date:</th>             <td>Sun, 25 Apr 2021</td> <th>  Prob (F-statistic):</th>  <td>  0.00</td>  \n",
       "</tr>\n",
       "<tr>\n",
       "  <th>Time:</th>                 <td>19:21:56</td>     <th>  Log-Likelihood:    </th> <td> -5771.9</td> \n",
       "</tr>\n",
       "<tr>\n",
       "  <th>No. Observations:</th>      <td>  1704</td>      <th>  AIC:               </th> <td>1.156e+04</td>\n",
       "</tr>\n",
       "<tr>\n",
       "  <th>Df Residuals:</th>          <td>  1694</td>      <th>  BIC:               </th> <td>1.162e+04</td>\n",
       "</tr>\n",
       "<tr>\n",
       "  <th>Df Model:</th>              <td>     9</td>      <th>                     </th>     <td> </td>    \n",
       "</tr>\n",
       "<tr>\n",
       "  <th>Covariance Type:</th>      <td>nonrobust</td>    <th>                     </th>     <td> </td>    \n",
       "</tr>\n",
       "</table>\n",
       "<table class=\"simpletable\">\n",
       "<tr>\n",
       "               <td></td>                 <th>coef</th>     <th>std err</th>      <th>t</th>      <th>P>|t|</th>  <th>[0.025</th>    <th>0.975]</th>  \n",
       "</tr>\n",
       "<tr>\n",
       "  <th>Intercept</th>                  <td> -521.4943</td> <td>   47.441</td> <td>  -10.993</td> <td> 0.000</td> <td> -614.543</td> <td> -428.446</td>\n",
       "</tr>\n",
       "<tr>\n",
       "  <th>continent[T.Americas]</th>      <td> -136.0849</td> <td>   56.099</td> <td>   -2.426</td> <td> 0.015</td> <td> -246.115</td> <td>  -26.055</td>\n",
       "</tr>\n",
       "<tr>\n",
       "  <th>continent[T.Asia]</th>          <td> -307.1060</td> <td>   57.962</td> <td>   -5.298</td> <td> 0.000</td> <td> -420.791</td> <td> -193.421</td>\n",
       "</tr>\n",
       "<tr>\n",
       "  <th>continent[T.Europe]</th>        <td>  165.1374</td> <td>   71.080</td> <td>    2.323</td> <td> 0.020</td> <td>   25.723</td> <td>  304.552</td>\n",
       "</tr>\n",
       "<tr>\n",
       "  <th>continent[T.Oceania]</th>       <td>  193.4039</td> <td>   86.527</td> <td>    2.235</td> <td> 0.026</td> <td>   23.692</td> <td>  363.116</td>\n",
       "</tr>\n",
       "<tr>\n",
       "  <th>year</th>                       <td>    0.2895</td> <td>    0.017</td> <td>   17.387</td> <td> 0.000</td> <td>    0.257</td> <td>    0.322</td>\n",
       "</tr>\n",
       "<tr>\n",
       "  <th>year:continent[T.Americas]</th> <td>    0.0781</td> <td>    0.029</td> <td>    2.673</td> <td> 0.008</td> <td>    0.021</td> <td>    0.135</td>\n",
       "</tr>\n",
       "<tr>\n",
       "  <th>year:continent[T.Asia]</th>     <td>    0.1636</td> <td>    0.027</td> <td>    6.121</td> <td> 0.000</td> <td>    0.111</td> <td>    0.216</td>\n",
       "</tr>\n",
       "<tr>\n",
       "  <th>year:continent[T.Europe]</th>   <td>   -0.0676</td> <td>    0.028</td> <td>   -2.455</td> <td> 0.014</td> <td>   -0.122</td> <td>   -0.014</td>\n",
       "</tr>\n",
       "<tr>\n",
       "  <th>year:continent[T.Oceania]</th>  <td>   -0.0793</td> <td>    0.087</td> <td>   -0.916</td> <td> 0.360</td> <td>   -0.249</td> <td>    0.090</td>\n",
       "</tr>\n",
       "<tr>\n",
       "  <th>continent_index</th>            <td>   -2.7635</td> <td>   23.512</td> <td>   -0.118</td> <td> 0.906</td> <td>  -48.880</td> <td>   43.353</td>\n",
       "</tr>\n",
       "</table>\n",
       "<table class=\"simpletable\">\n",
       "<tr>\n",
       "  <th>Omnibus:</th>       <td>27.121</td> <th>  Durbin-Watson:     </th> <td>   1.983</td>\n",
       "</tr>\n",
       "<tr>\n",
       "  <th>Prob(Omnibus):</th> <td> 0.000</td> <th>  Jarque-Bera (JB):  </th> <td>  44.106</td>\n",
       "</tr>\n",
       "<tr>\n",
       "  <th>Skew:</th>          <td>-0.121</td> <th>  Prob(JB):          </th> <td>2.65e-10</td>\n",
       "</tr>\n",
       "<tr>\n",
       "  <th>Kurtosis:</th>      <td> 3.750</td> <th>  Cond. No.          </th> <td>2.08e+18</td>\n",
       "</tr>\n",
       "</table><br/><br/>Notes:<br/>[1] Standard Errors assume that the covariance matrix of the errors is correctly specified.<br/>[2] The smallest eigenvalue is 1.77e-27. This might indicate that there are<br/>strong multicollinearity problems or that the design matrix is singular."
      ],
      "text/plain": [
       "<class 'statsmodels.iolib.summary.Summary'>\n",
       "\"\"\"\n",
       "                            OLS Regression Results                            \n",
       "==============================================================================\n",
       "Dep. Variable:                lifeExp   R-squared:                       0.693\n",
       "Model:                            OLS   Adj. R-squared:                  0.691\n",
       "Method:                 Least Squares   F-statistic:                     424.3\n",
       "Date:                Sun, 25 Apr 2021   Prob (F-statistic):               0.00\n",
       "Time:                        19:21:56   Log-Likelihood:                -5771.9\n",
       "No. Observations:                1704   AIC:                         1.156e+04\n",
       "Df Residuals:                    1694   BIC:                         1.162e+04\n",
       "Df Model:                           9                                         \n",
       "Covariance Type:            nonrobust                                         \n",
       "==============================================================================================\n",
       "                                 coef    std err          t      P>|t|      [0.025      0.975]\n",
       "----------------------------------------------------------------------------------------------\n",
       "Intercept                   -521.4943     47.441    -10.993      0.000    -614.543    -428.446\n",
       "continent[T.Americas]       -136.0849     56.099     -2.426      0.015    -246.115     -26.055\n",
       "continent[T.Asia]           -307.1060     57.962     -5.298      0.000    -420.791    -193.421\n",
       "continent[T.Europe]          165.1374     71.080      2.323      0.020      25.723     304.552\n",
       "continent[T.Oceania]         193.4039     86.527      2.235      0.026      23.692     363.116\n",
       "year                           0.2895      0.017     17.387      0.000       0.257       0.322\n",
       "year:continent[T.Americas]     0.0781      0.029      2.673      0.008       0.021       0.135\n",
       "year:continent[T.Asia]         0.1636      0.027      6.121      0.000       0.111       0.216\n",
       "year:continent[T.Europe]      -0.0676      0.028     -2.455      0.014      -0.122      -0.014\n",
       "year:continent[T.Oceania]     -0.0793      0.087     -0.916      0.360      -0.249       0.090\n",
       "continent_index               -2.7635     23.512     -0.118      0.906     -48.880      43.353\n",
       "==============================================================================\n",
       "Omnibus:                       27.121   Durbin-Watson:                   1.983\n",
       "Prob(Omnibus):                  0.000   Jarque-Bera (JB):               44.106\n",
       "Skew:                          -0.121   Prob(JB):                     2.65e-10\n",
       "Kurtosis:                       3.750   Cond. No.                     2.08e+18\n",
       "==============================================================================\n",
       "\n",
       "Notes:\n",
       "[1] Standard Errors assume that the covariance matrix of the errors is correctly specified.\n",
       "[2] The smallest eigenvalue is 1.77e-27. This might indicate that there are\n",
       "strong multicollinearity problems or that the design matrix is singular.\n",
       "\"\"\""
      ]
     },
     "execution_count": 9,
     "metadata": {},
     "output_type": "execute_result"
    }
   ],
   "source": [
    "import statsmodels.api as sm\n",
    "from statsmodels.formula.api import ols\n",
    "continents = data['continent'].values\n",
    "temp = []\n",
    "for continent in continents:\n",
    "    if continent == 'Africa': \n",
    "        temp.append(1)\n",
    "    elif continent == 'Americas':\n",
    "        temp.append(2)\n",
    "    elif continent == 'Asia':\n",
    "        temp.append(3)\n",
    "    elif continent == 'Europe':\n",
    "        temp.append(4)\n",
    "    else:\n",
    "        temp.append(5)\n",
    "data['continent_index'] = pd.Series(temp, index = data.index)\n",
    "regression = ols(formula='lifeExp ~ year + continent_index + year * continent', data=data).fit()\n",
    "regression.summary()"
   ]
  },
  {
   "cell_type": "markdown",
   "id": "derived-interview",
   "metadata": {},
   "source": [
    "**Question 11**: Are all parameters in the model significantly different from zero? If not, which are not significantly different from zero?"
   ]
  },
  {
   "cell_type": "markdown",
   "id": "included-settle",
   "metadata": {},
   "source": [
    "*Yes, coef, std err, and t are all very different from zero*"
   ]
  },
  {
   "cell_type": "markdown",
   "id": "touched-superior",
   "metadata": {},
   "source": [
    "**Question 12**: On average, by how much does life expectancy increase each year for each continent? (Provide code to answer this question by extracting relevant estimates from model fit)"
   ]
  },
  {
   "cell_type": "code",
   "execution_count": 10,
   "id": "violent-irish",
   "metadata": {},
   "outputs": [
    {
     "name": "stdout",
     "output_type": "stream",
     "text": [
      "Africa: 0.28952926304464766\n",
      "Americas: 0.36765093706293706\n",
      "Asia: 0.453122403899131\n",
      "Europe: 0.22193214452214463\n",
      "Oceania: 0.2102723776223776\n"
     ]
    }
   ],
   "source": [
    "# refer to the code above\n",
    "print(\"Africa: {}\".format(africa_inc[0][0]))\n",
    "print(\"Americas: {}\".format(americas_inc[0][0]))\n",
    "print(\"Asia: {}\".format(asia_inc[0][0]))\n",
    "print(\"Europe: {}\".format(europe_inc[0][0]))\n",
    "print(\"Oceania: {}\".format(oceania_inc[0][0]))"
   ]
  },
  {
   "cell_type": "markdown",
   "id": "executive-chemistry",
   "metadata": {},
   "source": [
    "**Exercise 7**: Make a residuals vs. year violin plot for the interaction model. Comment on how well it matches assumptions of the linear regression model."
   ]
  },
  {
   "cell_type": "code",
   "execution_count": 11,
   "id": "pacific-tanzania",
   "metadata": {},
   "outputs": [
    {
     "data": {
      "text/plain": [
       "Text(0.5, 1.0, 'Violin plot of residuals vs. year')"
      ]
     },
     "execution_count": 11,
     "metadata": {},
     "output_type": "execute_result"
    },
    {
     "data": {
      "image/png": "[encoded data removed]",
      "text/plain": [
       "<Figure size 432x288 with 1 Axes>"
      ]
     },
     "metadata": {
      "needs_background": "light"
     },
     "output_type": "display_data"
    }
   ],
   "source": [
    "pred_lifeExp2 = []\n",
    "pred_lifeExp2 = regression.predict()\n",
    "data['pred_lifeExp2'] = pd.Series(pred_lifeExp2, index=data.index)\n",
    "data['residual2'] = data['lifeExp'] - data['pred_lifeExp2']\n",
    "\n",
    "data.sort_values(by=['year'], inplace=True)\n",
    "residual = a_per_b(data, 'residual2', 'year', 1951)\n",
    "\n",
    "plt.violinplot(residual, years, widths=4, showmeans=True)\n",
    "plt.xlabel(\"Year\")\n",
    "plt.ylabel(\"Residuals\")\n",
    "plt.title(\"Violin plot of residuals vs. year\")"
   ]
  },
  {
   "cell_type": "markdown",
   "id": "failing-canberra",
   "metadata": {},
   "source": [
    "# Part 2: Classification"
   ]
  },
  {
   "cell_type": "markdown",
   "id": "raising-first",
   "metadata": {},
   "source": [
    "## Gradient Descent\n",
    "**Problem 1** Implement the gradient descent algorithm (either batch or stochastic versions) for multiple linear regression. I.e., extend the version of the algorithm we discussed in class to multiple parameters."
   ]
  },
  {
   "cell_type": "code",
   "execution_count": 12,
   "id": "theoretical-jersey",
   "metadata": {},
   "outputs": [],
   "source": [
    "import math as m\n",
    "def compute_loss(x, y, weights):\n",
    "    return y - (m.exp(np.dot(weights, x)))/(1+m.exp(np.dot(weights, x)))\n",
    "\n",
    "def grad_descent(X, Y, alpha, K, N):\n",
    "    # weights and loss\n",
    "    weights = np.zeroes(D)\n",
    "    loss = np.zeroes(K)\n",
    "\n",
    "    for k in range(K):\n",
    "        # prediction for kth iteration\n",
    "        Yhat = X.dot(weights)\n",
    "        \n",
    "        # compute loss and gradient\n",
    "        for i in range(N):\n",
    "            loss[k] += compute_loss(Y[i], Yhat)\n",
    "            gradient += compute_gradient(X[i], Y[i], theta)\n",
    "\n",
    "        # update weights\n",
    "        weights = weights - alpha * gradient\n",
    "\n",
    "    return weights, loss"
   ]
  },
  {
   "cell_type": "markdown",
   "id": "architectural-implement",
   "metadata": {},
   "source": [
    "**Problem 2** Implement the gradient descent algorithm (either batch or stochastic versions) for multiple logistic regression. I.e., modify your code in problem 1 for the logistic regression update equation."
   ]
  },
  {
   "cell_type": "code",
   "execution_count": 13,
   "id": "binary-brisbane",
   "metadata": {},
   "outputs": [],
   "source": [
    "def grad_descent(X, Y, alpha, K, N):\n",
    "    # weights and loss\n",
    "    weights = np.zeros(len(X[0]))\n",
    "    loss = np.zeros(N)\n",
    "    gradient = 0\n",
    "    \n",
    "    for k in range(K):\n",
    "        # compute loss and gradient\n",
    "        for i in range(N):\n",
    "            loss[i] = compute_loss(X[i], Y[i], weights)\n",
    "            gradient = loss[i] * X[i]\n",
    "\n",
    "        # update weights\n",
    "        weights = weights + alpha * gradient\n",
    "        weights = weights/np.linalg.norm(weights)\n",
    "\n",
    "    return weights, loss"
   ]
  },
  {
   "cell_type": "markdown",
   "id": "dependent-activity",
   "metadata": {},
   "source": [
    "**Problem 3** To test your programs, simulate data from the linear regression and logistic regression models and check that your implementations recover the simulation parameters properly."
   ]
  },
  {
   "cell_type": "code",
   "execution_count": 14,
   "id": "stock-boards",
   "metadata": {},
   "outputs": [
    {
     "data": {
      "text/plain": [
       "[<matplotlib.lines.Line2D at 0x7fc8ee723130>]"
      ]
     },
     "execution_count": 14,
     "metadata": {},
     "output_type": "execute_result"
    },
    {
     "data": {
      "image/png": "[encoded data removed]",
      "text/plain": [
       "<Figure size 432x288 with 1 Axes>"
      ]
     },
     "metadata": {
      "needs_background": "light"
     },
     "output_type": "display_data"
    }
   ],
   "source": [
    "from sklearn import datasets\n",
    "# Generate data for linear regression:\n",
    "gen_data_x, gen_data_y = datasets.make_regression(n_samples=100, n_features=20, noise = 1.5)\n",
    "\n",
    "# Generate data for logistic regression. This is similar to linear, only now values are either 0 or 1.  \n",
    "log_gen_data_x, dump_y = datasets.make_regression(n_samples=100, n_features=20, noise = 1.5)\n",
    "log_gen_data_y = [0 if i>0 else 1 for i in dump_y]\n",
    "\n",
    "(theta, loss) = grad_descent(log_gen_data_x, log_gen_data_y, 5, 5, len(log_gen_data_y))\n",
    "estimated = np.zeros(len(log_gen_data_y))\n",
    "for i in range(len(log_gen_data_x[0])):\n",
    "    estimated += log_gen_data_x[:, i] * theta[i]\n",
    "estimated += loss\n",
    "plt.plot(estimated, log_gen_data_y, '*')"
   ]
  },
  {
   "cell_type": "markdown",
   "id": "incorporate-foundation",
   "metadata": {},
   "source": [
    "## Try it out!\n"
   ]
  },
  {
   "cell_type": "code",
   "execution_count": 15,
   "id": "southern-journalist",
   "metadata": {},
   "outputs": [
    {
     "name": "stdout",
     "output_type": "stream",
     "text": [
      "scores_tree: [0 0 0 1 1 0 0 0 1 1 0 1 1 0 0 0 1 1 0 1 0 1 1 0 0 1 0 1 0 1 1 0 1 1 1 0 0\n",
      " 0 0 0 0 0 0 1 1 1 1 0 0 1 0 0 0 1 1 1 0 0 0 0 0 0 1 0 1 1 0 0 0 0 1 0 0 0\n",
      " 1 0 1 1 1 1 0 0 0 0 0 1 0 0 1 0 1 1 1 1 1 0 1 0 1 1]\n",
      "percentage_tree: 0.45\n",
      "scores_LDA: [1 0 0 1 0 1 0 0 0 1 1 0 1 0 1 0 1 1 1 0 0 1 1 0 0 1 0 0 0 1 1 0 0 1 0 0 0\n",
      " 0 0 0 0 1 1 1 1 0 1 1 0 0 0 0 1 1 0 1 0 0 0 0 1 1 1 1 1 0 0 1 1 0 1 0 0 1\n",
      " 0 0 1 0 1 1 0 0 0 0 1 1 0 1 1 1 1 0 1 0 0 1 1 0 0 1]\n",
      "percentage_LDA: 0.47\n",
      "tree vs. GD: Ttest_relResult(statistic=3.830848598065225, pvalue=0.00022422440327589299)\n",
      "LDA vs. GD: Ttest_relResult(statistic=4.508882928005746, pvalue=1.791667602581902e-05)\n"
     ]
    },
    {
     "data": {
      "image/png": "[encoded data removed]",
      "text/plain": [
       "<Figure size 432x288 with 1 Axes>"
      ]
     },
     "metadata": {
      "needs_background": "light"
     },
     "output_type": "display_data"
    }
   ],
   "source": [
    "from sklearn.model_selection import cross_val_predict\n",
    "from sklearn import datasets\n",
    "from sklearn import tree\n",
    "from sklearn import metrics\n",
    "from sklearn import discriminant_analysis\n",
    "from scipy import stats\n",
    "\n",
    "# simulate data for logistic regression.  This is similar to linear, only now values are either 0 or 1.  \n",
    "X, dump_y = datasets.make_regression(n_samples=100, n_features=20, noise = 1.5)\n",
    "Y = [0 if i>20 else 1 for i in dump_y]\n",
    "\n",
    "# classification trees, cv for 10-fold cross-validation\n",
    "model = tree.DecisionTreeClassifier()\n",
    "scores_tree = cross_val_predict(model, X, Y, cv=10)\n",
    "print(\"scores_tree: {}\".format(scores_tree))\n",
    "print(\"percentage_tree: {}\".format(sum(scores_tree)/100))\n",
    "\n",
    "# LDA\n",
    "model = discriminant_analysis.LinearDiscriminantAnalysis()\n",
    "scores_LDA = cross_val_predict(model, X, Y, cv=10)\n",
    "print(\"scores_LDA: {}\".format(scores_LDA))\n",
    "print(\"percentage_LDA: {}\".format(sum(scores_LDA)/100))\n",
    "\n",
    "# gradient descent\n",
    "(theta,loss) = grad_descent(X, Y, 20, 20, len(Y))\n",
    "estimated = np.zeros(len(Y))\n",
    "for i in range(len(X[0])):\n",
    "    estimated += X[:, i] * theta[i]\n",
    "estimated += loss\n",
    "plt.plot(estimated, Y, '*')\n",
    "\n",
    "# t-test for tree vs. GD\n",
    "print(\"tree vs. GD: {}\".format(stats.ttest_rel(scores_tree,estimated)))\n",
    "\n",
    "# t-test for LDA vs. GD\n",
    "print(\"LDA vs. GD: {}\".format(stats.ttest_rel(scores_LDA,estimated)))"
   ]
  },
  {
   "cell_type": "code",
   "execution_count": null,
   "id": "hybrid-steam",
   "metadata": {},
   "outputs": [],
   "source": []
  }
 ],
 "metadata": {
  "kernelspec": {
   "display_name": "Python 3",
   "language": "python",
   "name": "python3"
  },
  "language_info": {
   "codemirror_mode": {
    "name": "ipython",
    "version": 3
   },
   "file_extension": ".py",
   "mimetype": "text/x-python",
   "name": "python",
   "nbconvert_exporter": "python",
   "pygments_lexer": "ipython3",
   "version": "3.9.1"
  }
 },
 "nbformat": 4,
 "nbformat_minor": 5
}
